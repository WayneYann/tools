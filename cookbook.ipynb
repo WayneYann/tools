{
 "cells": [
  {
   "cell_type": "markdown",
   "metadata": {
    "toc": "true"
   },
   "source": [
    "# Table of Contents\n",
    " <p><div class=\"lev1 toc-item\"><a href=\"#Cookbook-for-cantera_tools-module\" data-toc-modified-id=\"Cookbook-for-cantera_tools-module-1\"><span class=\"toc-item-num\">1&nbsp;&nbsp;</span>Cookbook for cantera_tools module</a></div><div class=\"lev2 toc-item\"><a href=\"#running-a-simple-simulation\" data-toc-modified-id=\"running-a-simple-simulation-11\"><span class=\"toc-item-num\">1.1&nbsp;&nbsp;</span>running a simple simulation</a></div><div class=\"lev2 toc-item\"><a href=\"#reducing-a-mechanism-by-reactions\" data-toc-modified-id=\"reducing-a-mechanism-by-reactions-12\"><span class=\"toc-item-num\">1.2&nbsp;&nbsp;</span>reducing a mechanism by reactions</a></div><div class=\"lev2 toc-item\"><a href=\"#analyzing-data\" data-toc-modified-id=\"analyzing-data-13\"><span class=\"toc-item-num\">1.3&nbsp;&nbsp;</span>analyzing data</a></div><div class=\"lev3 toc-item\"><a href=\"#obtaining-reaction-and-species-data\" data-toc-modified-id=\"obtaining-reaction-and-species-data-131\"><span class=\"toc-item-num\">1.3.1&nbsp;&nbsp;</span>obtaining reaction and species data</a></div><div class=\"lev3 toc-item\"><a href=\"#finding-stoichiometric-coefficients\" data-toc-modified-id=\"finding-stoichiometric-coefficients-132\"><span class=\"toc-item-num\">1.3.2&nbsp;&nbsp;</span>finding stoichiometric coefficients</a></div><div class=\"lev2 toc-item\"><a href=\"#analyzing-data\" data-toc-modified-id=\"analyzing-data-14\"><span class=\"toc-item-num\">1.4&nbsp;&nbsp;</span>analyzing data</a></div><div class=\"lev3 toc-item\"><a href=\"#finding-stoichiometric-coefficients\" data-toc-modified-id=\"finding-stoichiometric-coefficients-141\"><span class=\"toc-item-num\">1.4.1&nbsp;&nbsp;</span>finding stoichiometric coefficients</a></div>"
   ]
  },
  {
   "cell_type": "markdown",
   "metadata": {},
   "source": [
    "# Cookbook for cantera_tools module\n",
    "\n",
    "This notebook describes some of the methods in this package and how they can be used."
   ]
  },
  {
   "cell_type": "code",
   "execution_count": 1,
   "metadata": {
    "collapsed": true
   },
   "outputs": [],
   "source": [
    "import cantera_tools as ctt\n",
    "import numpy as np\n",
    "from scipy import integrate\n",
    "import cantera as ct\n",
    "import pandas as pd\n",
    "import numpy as np\n",
    "import matplotlib.pyplot as plt\n",
    "%matplotlib inline"
   ]
  },
  {
   "cell_type": "code",
   "execution_count": 16,
   "metadata": {
    "collapsed": false
   },
   "outputs": [
    {
     "data": {
      "text/plain": [
       "<module 'cantera_tools' from '/home/mark/workspace/tools/cantera_tools.py'>"
      ]
     },
     "execution_count": 16,
     "metadata": {},
     "output_type": "execute_result"
    }
   ],
   "source": [
    "import importlib\n",
    "importlib.reload(ctt)"
   ]
  },
  {
   "cell_type": "markdown",
   "metadata": {},
   "source": [
    "## running a simple simulation"
   ]
  },
  {
   "cell_type": "code",
   "execution_count": 12,
   "metadata": {
    "collapsed": false
   },
   "outputs": [
    {
     "name": "stdout",
     "output_type": "stream",
     "text": [
      "WARNING: 'ReactorNet::step(t)' is deprecated. The argument to this function is deprecated and will be removed after Cantera 2.3.\n"
     ]
    }
   ],
   "source": [
    "model_link = 'cookbook_files/model.cti'\n",
    "\n",
    "# creates the cantera Solution object\n",
    "solution = ctt.create_mechanism(model_link)\n",
    "\n",
    "# finds initial mole fraction for a fuel-air ratio of 1 with 30%/70% methanol/propane blend\n",
    "# for non-combustion conditions, this can be replaced by a dictionary of values {'CH3OH': 0.3, 'C3H8':0.7}\n",
    "mole_fractions = ctt.get_initial_mole_fractions(stoich_ratio = 1,\n",
    "                                               fuel_mole_ratios = [.3,.7],\n",
    "                                               oxygen_per_fuel_at_stoich_list = [1.5,5],\n",
    "                                               fuels = ['CH3OH','C3H8'])\n",
    "\n",
    "# set initial conditions of solution in kelvin pascals and mole fractions\n",
    "solution.TPX = 750, 10**6, mole_fractions\n",
    "\n",
    "# setup adiabatic constant volume reactor\n",
    "reactor = ct.IdealGasReactor(solution)\n",
    "simulator = ct.ReactorNet([reactor])\n",
    "solution = reactor.kinetics\n",
    "\n",
    "# setup data storage using functions from this class - this saves states, species and reaction profiles\n",
    "df = pd.DataFrame()\n",
    "df = ctt.append_data_to_df(simulator, solution, df, add_rxns=True)\n",
    "\n",
    "# run simulation\n",
    "time_final = 50 #seconds\n",
    "while simulator.time < time_final:\n",
    "    simulator.step(time_final)\n",
    "    # appends data to DataFrame\n",
    "    df = ctt.append_data_to_df(simulator,solution,df, add_rxns=True)\n",
    "\n",
    "\n",
    "# data can be saved to avoid rerunning the simulation for data analysis (in most cases)\n",
    "df.to_pickle('cookbook_files/%s.pic' % (mole_fractions))"
   ]
  },
  {
   "cell_type": "markdown",
   "metadata": {},
   "source": [
    "## reducing a mechanism by reactions\n",
    "The modules can create a reduced mechanism given a list of desired reaction strings, using how cantera represents the reaction strings (this can be found by `solution.reaction_equations()`). It will remove any unused species as well."
   ]
  },
  {
   "cell_type": "code",
   "execution_count": 23,
   "metadata": {
    "collapsed": true
   },
   "outputs": [],
   "source": [
    "desired_reactions = ['CH3OH + O2 <=> CH2OH(29) + HO2(12)',\n",
    " 'C3H8 + O2 <=> C3H7(61) + HO2(12)',\n",
    " 'C3H8 + O2 <=> C3H7(60) + HO2(12)',\n",
    " 'CH3OH + OH(10) <=> CH2OH(29) + H2O(11)',\n",
    " 'C3H8 + OH(10) <=> C3H7(60) + H2O(11)',\n",
    " 'C3H8 + OH(10) <=> C3H7(61) + H2O(11)',\n",
    " 'CH3OH + HO2(12) <=> CH2OH(29) + H2O2(13)',\n",
    " 'C3H8 + HO2(12) <=> C3H7(61) + H2O2(13)',\n",
    " 'C3H8 + HO2(12) <=> C3H7(60) + H2O2(13)',\n",
    " 'C3H7(60) + O2 <=> C3H7O2(78)',\n",
    " 'C3H7(61) + O2 <=> C3H7O2(80)',]\n",
    "\n",
    "# make the reduced mechanism using the full mechanism `.cti` file.\n",
    "solution_reduced = ctt.create_mechanism(model_link, kept_reaction_equations=desired_reactions)\n",
    "\n",
    "# NOTE: this cantera Solution object can now be used like any other"
   ]
  },
  {
   "cell_type": "markdown",
   "metadata": {
    "collapsed": true
   },
   "source": [
    "## analyzing data\n",
    "### obtaining reaction and species data"
   ]
  },
  {
   "cell_type": "code",
   "execution_count": 10,
   "metadata": {
    "collapsed": true
   },
   "outputs": [],
   "source": [
    "# this outputs a dataframe of just species\n",
    "data_species = ctt.find_species(df)\n",
    "\n",
    "# this outputs a dataframe of just reactions\n",
    "data_reactions = ctt.find_reactions(df)\n",
    "\n",
    "# this outputs a dataframe with just reactions involving methanol\n",
    "reactions_with_methanol = ctt.find_reactions(df,species = 'CH3OH')"
   ]
  },
  {
   "cell_type": "markdown",
   "metadata": {
    "collapsed": true
   },
   "source": [
    "### finding stoichiometric coefficients"
   ]
  },
  {
   "cell_type": "code",
   "execution_count": 8,
   "metadata": {
    "collapsed": false
   },
   "outputs": [
    {
     "data": {
      "text/plain": [
       "1.0"
      ]
     },
     "execution_count": 8,
     "metadata": {},
     "output_type": "execute_result"
    }
   ],
   "source": [
    "# this is wrapper function that outputs the stoichiometric coefficient given reaction strings:\n",
    "ctt.obtain_stoichiometry_of_species(solution,'CH2OH(29)','CH3OH + HO2(12) <=> CH2OH(29) + H2O2(13)')"
   ]
  },
  {
   "cell_type": "code",
   "execution_count": 27,
   "metadata": {
    "collapsed": false,
    "scrolled": true
   },
   "outputs": [
    {
     "ename": "Exception",
     "evalue": "No reactions found for species CH2OH(29)",
     "output_type": "error",
     "traceback": [
      "\u001b[0;31m---------------------------------------------------------------------------\u001b[0m",
      "\u001b[0;31mException\u001b[0m                                 Traceback (most recent call last)",
      "\u001b[0;32m<ipython-input-27-1c2f8df1a9b2>\u001b[0m in \u001b[0;36m<module>\u001b[0;34m()\u001b[0m\n\u001b[1;32m      1\u001b[0m \u001b[0;31m# it can also deal with a list of reactions\u001b[0m\u001b[0;34m\u001b[0m\u001b[0;34m\u001b[0m\u001b[0m\n\u001b[0;32m----> 2\u001b[0;31m \u001b[0mreactions_with_species\u001b[0m \u001b[0;34m=\u001b[0m \u001b[0mctt\u001b[0m\u001b[0;34m.\u001b[0m\u001b[0mfind_reactions\u001b[0m\u001b[0;34m(\u001b[0m\u001b[0mdf\u001b[0m\u001b[0;34m,\u001b[0m\u001b[0;34m'CH2OH(29)'\u001b[0m\u001b[0;34m)\u001b[0m\u001b[0;34m\u001b[0m\u001b[0m\n\u001b[0m\u001b[1;32m      3\u001b[0m \u001b[0mctt\u001b[0m\u001b[0;34m.\u001b[0m\u001b[0mobtain_stoichiometry_of_species\u001b[0m\u001b[0;34m(\u001b[0m\u001b[0msolution\u001b[0m\u001b[0;34m,\u001b[0m\u001b[0;34m'CH2OH(29)'\u001b[0m\u001b[0;34m,\u001b[0m\u001b[0mreactions_with_species\u001b[0m\u001b[0;34m)\u001b[0m\u001b[0;34m\u001b[0m\u001b[0m\n",
      "\u001b[0;32m/home/mark/workspace/tools/cantera_tools.py\u001b[0m in \u001b[0;36mfind_reactions\u001b[0;34m(df, species)\u001b[0m\n\u001b[1;32m    358\u001b[0m     \u001b[0mdf_my_reactions\u001b[0m \u001b[0;34m=\u001b[0m \u001b[0mdf_reactions\u001b[0m\u001b[0;34m.\u001b[0m\u001b[0mloc\u001b[0m\u001b[0;34m[\u001b[0m\u001b[0;34m:\u001b[0m\u001b[0;34m,\u001b[0m\u001b[0;34m[\u001b[0m\u001b[0mre\u001b[0m\u001b[0;34m.\u001b[0m\u001b[0mcompile\u001b[0m\u001b[0;34m(\u001b[0m\u001b[0mexpression\u001b[0m\u001b[0;34m)\u001b[0m\u001b[0;34m.\u001b[0m\u001b[0msearch\u001b[0m\u001b[0;34m(\u001b[0m\u001b[0mcolumn\u001b[0m\u001b[0;34m)\u001b[0m \u001b[0;34m!=\u001b[0m \u001b[0;32mNone\u001b[0m \u001b[0;32mfor\u001b[0m \u001b[0mcolumn\u001b[0m \u001b[0;32min\u001b[0m \u001b[0mdf_reactions\u001b[0m\u001b[0;34m.\u001b[0m\u001b[0mcolumns\u001b[0m\u001b[0;34m]\u001b[0m\u001b[0;34m]\u001b[0m\u001b[0;34m\u001b[0m\u001b[0m\n\u001b[1;32m    359\u001b[0m     \u001b[0;32mif\u001b[0m \u001b[0mdf_my_reactions\u001b[0m\u001b[0;34m.\u001b[0m\u001b[0mempty\u001b[0m\u001b[0;34m:\u001b[0m\u001b[0;34m\u001b[0m\u001b[0m\n\u001b[0;32m--> 360\u001b[0;31m         \u001b[0;32mraise\u001b[0m \u001b[0mException\u001b[0m\u001b[0;34m(\u001b[0m\u001b[0;34m'No reactions found for species {}'\u001b[0m\u001b[0;34m.\u001b[0m\u001b[0mformat\u001b[0m\u001b[0;34m(\u001b[0m\u001b[0mspecies\u001b[0m\u001b[0;34m)\u001b[0m\u001b[0;34m)\u001b[0m\u001b[0;34m\u001b[0m\u001b[0m\n\u001b[0m\u001b[1;32m    361\u001b[0m     \u001b[0;32mreturn\u001b[0m \u001b[0mdf_my_reactions\u001b[0m\u001b[0;34m\u001b[0m\u001b[0m\n\u001b[1;32m    362\u001b[0m \u001b[0;34m\u001b[0m\u001b[0m\n",
      "\u001b[0;31mException\u001b[0m: No reactions found for species CH2OH(29)"
     ]
    }
   ],
   "source": [
    "# methods can also deal with a list of reactions\n",
    "reactions_with_species = ctt.find_reactions(df,'CH2OH(29)')\n",
    "ctt.obtain_stoichiometry_of_species(solution,'CH2OH(29)',reactions_with_species)"
   ]
  },
  {
   "cell_type": "markdown",
   "metadata": {
    "collapsed": true
   },
   "source": [
    "## analyzing data\n",
    "### finding stoichiometric coefficients"
   ]
  },
  {
   "cell_type": "code",
   "execution_count": 15,
   "metadata": {
    "collapsed": false
   },
   "outputs": [
    {
     "data": {
      "text/plain": [
       "MultiIndex(levels=[['forward'], ['a', 'b', 'c']],\n",
       "           labels=[[0, 0, 0], [0, 1, 2]])"
      ]
     },
     "execution_count": 15,
     "metadata": {},
     "output_type": "execute_result"
    }
   ],
   "source": [
    "df = pd.DataFrame()\n",
    "pd.MultiIndex.from_product([['forward'],['a','b','c']],names = ['direction, reaction'])"
   ]
  },
  {
   "cell_type": "code",
   "execution_count": 19,
   "metadata": {
    "collapsed": false
   },
   "outputs": [],
   "source": [
    "df = pd.DataFrame()\n",
    "df = ctt.append_forward_and_reverse_reactions_to_dataframe(solution,df)"
   ]
  },
  {
   "cell_type": "code",
   "execution_count": 22,
   "metadata": {
    "collapsed": true
   },
   "outputs": [],
   "source": [
    "s = pd.Series()\n",
    "s['apple'] = 'r'"
   ]
  },
  {
   "cell_type": "code",
   "execution_count": 21,
   "metadata": {
    "collapsed": false
   },
   "outputs": [
    {
     "name": "stdout",
     "output_type": "stream",
     "text": [
      ",\"('forward', '2 C3H7O2(78) <=> 2 C3H7O(76) + O2')\",\"('forward', '2 C3H7O2(80) <=> 2 C3H7O(77) + O2')\",\"('forward', '2 HO2(12) <=> H2O2(13) + O2')\",\"('forward', 'C2H4O(44) + CH3(25) <=> C3H7O(77)')\",\"('forward', 'C2H5(39) + CH2O(17) <=> C3H7O(76)')\",\"('forward', 'C2H5(39) + O2 (+M) <=> C2H4(38) + HO2(12) (+M)')\",\"('forward', 'C2H5(39) + O2 (+M) <=> C2H5O2(50) (+M)')\",\"('forward', 'C2H5O2(50) (+M) <=> C2H4(38) + HO2(12) (+M)')\",\"('forward', 'C2H5O2(50) + C3H8 <=> C2H6O2(51) + C3H7(60)')\",\"('forward', 'C2H5O2(50) + C3H8 <=> C2H6O2(51) + C3H7(61)')\",\"('forward', 'C2H5O2(50) + CH3OH <=> C2H6O2(51) + CH2OH(29)')\",\"('forward', 'C2H5O2(50) + HO2(12) <=> C2H6O2(51) + O2')\",\"('forward', 'C2H6O2(51) <=> OH(10) + ethoxy(49)')\",\"('forward', 'C3H6(59) + OH(10) <=> H2O(11) + allyl(63)')\",\"('forward', 'C3H6O2(95) <=> C3H5O(72) + OH(10)')\",\"('forward', 'C3H6O3(94) <=> OH(10) + S(101)')\",\"('forward', 'C3H7(60) + O2 <=> C3H6(59) + HO2(12)')\",\"('forward', 'C3H7(60) + O2 <=> C3H7O2(78)')\",\"('forward', 'C3H7(61) + O2 <=> C3H6(59) + HO2(12)')\",\"('forward', 'C3H7(61) + O2 <=> C3H7O2(80)')\",\"('forward', 'C3H7O2(78) + C3H8 <=> C3H7(60) + C3H8O2(79)')\",\"('forward', 'C3H7O2(78) + C3H8 <=> C3H7(61) + C3H8O2(79)')\",\"('forward', 'C3H7O2(78) + CH2O(17) <=> C3H8O2(79) + HCO(16)')\",\"('forward', 'C3H7O2(78) + CH3OH <=> C3H8O2(79) + CH2OH(29)')\",\"('forward', 'C3H7O2(78) + HO2(12) <=> C3H8O2(79) + O2')\",\"('forward', 'C3H7O2(78) <=> C3H6(59) + HO2(12)')\",\"('forward', 'C3H7O2(78) <=> C3H7O2(87)')\",\"('forward', 'C3H7O2(80) + C3H8 <=> C3H7(60) + C3H8O2(81)')\",\"('forward', 'C3H7O2(80) + C3H8 <=> C3H7(61) + C3H8O2(81)')\",\"('forward', 'C3H7O2(80) + CH2O(17) <=> C3H8O2(81) + HCO(16)')\",\"('forward', 'C3H7O2(80) + CH3OH <=> C3H8O2(81) + CH2OH(29)')\",\"('forward', 'C3H7O2(80) + HO2(12) <=> C3H8O2(81) + O2')\",\"('forward', 'C3H7O2(80) <=> C3H6(59) + HO2(12)')\",\"('forward', 'C3H7O2(87) + O2 <=> C3H7O4(90)')\",\"('forward', 'C3H7O4(90) <=> C3H6O3(94) + OH(10)')\",\"('forward', 'C3H8 + CH3OO(27) <=> C3H7(60) + CH3OOH(28)')\",\"('forward', 'C3H8 + CH3OO(27) <=> C3H7(61) + CH3OOH(28)')\",\"('forward', 'C3H8 + HO2(12) <=> C3H7(60) + H2O2(13)')\",\"('forward', 'C3H8 + HO2(12) <=> C3H7(61) + H2O2(13)')\",\"('forward', 'C3H8 + O2 <=> C3H7(60) + HO2(12)')\",\"('forward', 'C3H8 + O2 <=> C3H7(61) + HO2(12)')\",\"('forward', 'C3H8 + OH(10) <=> C3H7(60) + H2O(11)')\",\"('forward', 'C3H8 + OH(10) <=> C3H7(61) + H2O(11)')\",\"('forward', 'C3H8O2(79) <=> C3H7O(76) + OH(10)')\",\"('forward', 'C3H8O2(81) <=> C3H7O(77) + OH(10)')\",\"('forward', 'CH2O(17) + CH3(25) <=> ethoxy(49)')\",\"('forward', 'CH2O(17) + CH3OO(27) <=> CH3OOH(28) + HCO(16)')\",\"('forward', 'CH2O(17) + HO2(12) <=> H2O2(13) + HCO(16)')\",\"('forward', 'CH2O(17) + O2 <=> HCO(16) + HO2(12)')\",\"('forward', 'CH2O(17) + OH(10) <=> H2O(11) + HCO(16)')\",\"('forward', 'CH2OH(29) + O2 <=> CH2O(17) + HO2(12)')\",\"('forward', 'CH2OH(29) + O2 <=> CH3O3(33)')\",\"('forward', 'CH3(25) + O2 (+M) <=> CH3OO(27) (+M)')\",\"('forward', 'CH3O(30) + M <=> CH2O(17) + H(3) + M')\",\"('forward', 'CH3O3(33) <=> CH2O(17) + HO2(12)')\",\"('forward', 'CH3OH + CH3OO(27) <=> CH2OH(29) + CH3OOH(28)')\",\"('forward', 'CH3OH + HO2(12) <=> CH2OH(29) + H2O2(13)')\",\"('forward', 'CH3OH + O2 <=> CH2OH(29) + HO2(12)')\",\"('forward', 'CH3OH + OH(10) <=> CH2OH(29) + H2O(11)')\",\"('forward', 'CH3OO(27) + HO2(12) <=> CH3OOH(28) + O2')\",\"('forward', 'CH3OOH(28) <=> CH3O(30) + OH(10)')\",\"('forward', 'H(3) + O2 (+M) <=> HO2(12) (+M)')\",\"('forward', 'H2O2(13) (+M) <=> 2 OH(10) (+M)')\",\"('forward', 'H2O2(13) + OH(10) <=> H2O(11) + HO2(12)')\",\"('forward', 'HCO(16) + O2 <=> CO(14) + HO2(12)')\",\"('forward', 'HO2(12) + allyl(63) <=> C3H6O2(95)')\",\"('forward', 'O2 + vinoxy(46) <=> CH2O(17) + CO(14) + OH(10)')\",\"('forward', 'S(101) <=> CH2O(17) + vinoxy(46)')\",\"('reverse', '2 C3H7O2(78) <=> 2 C3H7O(76) + O2')\",\"('reverse', '2 C3H7O2(80) <=> 2 C3H7O(77) + O2')\",\"('reverse', '2 HO2(12) <=> H2O2(13) + O2')\",\"('reverse', 'C2H4O(44) + CH3(25) <=> C3H7O(77)')\",\"('reverse', 'C2H5(39) + CH2O(17) <=> C3H7O(76)')\",\"('reverse', 'C2H5(39) + O2 (+M) <=> C2H4(38) + HO2(12) (+M)')\",\"('reverse', 'C2H5(39) + O2 (+M) <=> C2H5O2(50) (+M)')\",\"('reverse', 'C2H5O2(50) (+M) <=> C2H4(38) + HO2(12) (+M)')\",\"('reverse', 'C2H5O2(50) + C3H8 <=> C2H6O2(51) + C3H7(60)')\",\"('reverse', 'C2H5O2(50) + C3H8 <=> C2H6O2(51) + C3H7(61)')\",\"('reverse', 'C2H5O2(50) + CH3OH <=> C2H6O2(51) + CH2OH(29)')\",\"('reverse', 'C2H5O2(50) + HO2(12) <=> C2H6O2(51) + O2')\",\"('reverse', 'C2H6O2(51) <=> OH(10) + ethoxy(49)')\",\"('reverse', 'C3H6(59) + OH(10) <=> H2O(11) + allyl(63)')\",\"('reverse', 'C3H6O2(95) <=> C3H5O(72) + OH(10)')\",\"('reverse', 'C3H6O3(94) <=> OH(10) + S(101)')\",\"('reverse', 'C3H7(60) + O2 <=> C3H6(59) + HO2(12)')\",\"('reverse', 'C3H7(60) + O2 <=> C3H7O2(78)')\",\"('reverse', 'C3H7(61) + O2 <=> C3H6(59) + HO2(12)')\",\"('reverse', 'C3H7(61) + O2 <=> C3H7O2(80)')\",\"('reverse', 'C3H7O2(78) + C3H8 <=> C3H7(60) + C3H8O2(79)')\",\"('reverse', 'C3H7O2(78) + C3H8 <=> C3H7(61) + C3H8O2(79)')\",\"('reverse', 'C3H7O2(78) + CH2O(17) <=> C3H8O2(79) + HCO(16)')\",\"('reverse', 'C3H7O2(78) + CH3OH <=> C3H8O2(79) + CH2OH(29)')\",\"('reverse', 'C3H7O2(78) + HO2(12) <=> C3H8O2(79) + O2')\",\"('reverse', 'C3H7O2(78) <=> C3H6(59) + HO2(12)')\",\"('reverse', 'C3H7O2(78) <=> C3H7O2(87)')\",\"('reverse', 'C3H7O2(80) + C3H8 <=> C3H7(60) + C3H8O2(81)')\",\"('reverse', 'C3H7O2(80) + C3H8 <=> C3H7(61) + C3H8O2(81)')\",\"('reverse', 'C3H7O2(80) + CH2O(17) <=> C3H8O2(81) + HCO(16)')\",\"('reverse', 'C3H7O2(80) + CH3OH <=> C3H8O2(81) + CH2OH(29)')\",\"('reverse', 'C3H7O2(80) + HO2(12) <=> C3H8O2(81) + O2')\",\"('reverse', 'C3H7O2(80) <=> C3H6(59) + HO2(12)')\",\"('reverse', 'C3H7O2(87) + O2 <=> C3H7O4(90)')\",\"('reverse', 'C3H7O4(90) <=> C3H6O3(94) + OH(10)')\",\"('reverse', 'C3H8 + CH3OO(27) <=> C3H7(60) + CH3OOH(28)')\",\"('reverse', 'C3H8 + CH3OO(27) <=> C3H7(61) + CH3OOH(28)')\",\"('reverse', 'C3H8 + HO2(12) <=> C3H7(60) + H2O2(13)')\",\"('reverse', 'C3H8 + HO2(12) <=> C3H7(61) + H2O2(13)')\",\"('reverse', 'C3H8 + O2 <=> C3H7(60) + HO2(12)')\",\"('reverse', 'C3H8 + O2 <=> C3H7(61) + HO2(12)')\",\"('reverse', 'C3H8 + OH(10) <=> C3H7(60) + H2O(11)')\",\"('reverse', 'C3H8 + OH(10) <=> C3H7(61) + H2O(11)')\",\"('reverse', 'C3H8O2(79) <=> C3H7O(76) + OH(10)')\",\"('reverse', 'C3H8O2(81) <=> C3H7O(77) + OH(10)')\",\"('reverse', 'CH2O(17) + CH3(25) <=> ethoxy(49)')\",\"('reverse', 'CH2O(17) + CH3OO(27) <=> CH3OOH(28) + HCO(16)')\",\"('reverse', 'CH2O(17) + HO2(12) <=> H2O2(13) + HCO(16)')\",\"('reverse', 'CH2O(17) + O2 <=> HCO(16) + HO2(12)')\",\"('reverse', 'CH2O(17) + OH(10) <=> H2O(11) + HCO(16)')\",\"('reverse', 'CH2OH(29) + O2 <=> CH2O(17) + HO2(12)')\",\"('reverse', 'CH2OH(29) + O2 <=> CH3O3(33)')\",\"('reverse', 'CH3(25) + O2 (+M) <=> CH3OO(27) (+M)')\",\"('reverse', 'CH3O(30) + M <=> CH2O(17) + H(3) + M')\",\"('reverse', 'CH3O3(33) <=> CH2O(17) + HO2(12)')\",\"('reverse', 'CH3OH + CH3OO(27) <=> CH2OH(29) + CH3OOH(28)')\",\"('reverse', 'CH3OH + HO2(12) <=> CH2OH(29) + H2O2(13)')\",\"('reverse', 'CH3OH + O2 <=> CH2OH(29) + HO2(12)')\",\"('reverse', 'CH3OH + OH(10) <=> CH2OH(29) + H2O(11)')\",\"('reverse', 'CH3OO(27) + HO2(12) <=> CH3OOH(28) + O2')\",\"('reverse', 'CH3OOH(28) <=> CH3O(30) + OH(10)')\",\"('reverse', 'H(3) + O2 (+M) <=> HO2(12) (+M)')\",\"('reverse', 'H2O2(13) (+M) <=> 2 OH(10) (+M)')\",\"('reverse', 'H2O2(13) + OH(10) <=> H2O(11) + HO2(12)')\",\"('reverse', 'HCO(16) + O2 <=> CO(14) + HO2(12)')\",\"('reverse', 'HO2(12) + allyl(63) <=> C3H6O2(95)')\",\"('reverse', 'O2 + vinoxy(46) <=> CH2O(17) + CO(14) + OH(10)')\",\"('reverse', 'S(101) <=> CH2O(17) + vinoxy(46)')\"\n",
      "0,1.1976339547135818e-21,7.06877154706563e-21,1.0019416491579399e-07,1.9155087763182285e-12,1.3664114191157366e-19,2.9232807195545207e-07,2.5270057947732193e-06,6.368439492204187e-09,8.247845819570846e-20,1.3063723645761063e-19,4.7550871720045824e-30,1.009332019989645e-14,1.0093531032108437e-14,0.029381084740484037,1.1072700099952295,1.0561313138787205e-11,2.5367321374508995e-08,1.179308589894477e-06,3.0913840975574686e-07,3.195937445584797e-06,1.2409841584027639e-20,6.382407730621632e-21,2.8749071187214307e-21,2.548031145727885e-31,1.7280074057359399e-15,1.4784582987440127e-08,3.0697532124093924e-08,3.014922552610683e-20,1.550581034956511e-20,6.984474580279971e-21,6.1903421683455466e-31,4.1981265138283176e-15,3.632416666327342e-08,1.9133198237743575e-09,1.0561313146462219e-11,1.6633850008108283e-20,2.6346275673018537e-20,2.0675784523595437e-14,3.274827646931067e-14,3.0452075730890047e-13,3.1416450151184394e-13,1.6068625947564801e-10,1.3142421281460692e-10,1.7280289407287463e-15,4.198242575058151e-15,2.605231842426196e-20,2.75188822253601e-21,6.274487709934866e-15,4.38567426095243e-13,2.0745669103530772e-11,3.1946488464487416e-15,2.153848211985805e-15,3.415145470682831e-07,1.3889097496708261e-14,1.0384889858860641e-14,9.58982606184551e-31,3.624352624310741e-25,1.4634870614778273e-25,3.3732313019822767e-21,1.3888503988731508e-14,1.3888725681182396e-14,4.6679868399546996e-06,1.802025187221911e-06,1.0049446870258329e-08,9.432747311102036e-08,0.0008042275883257478,1.0561313155507266e-11,1.0561313152934739e-11,1.1790433337511094e-50,7.611613232627094e-44,1.9087375560998534e-09,1.919706974511248e-12,1.7281680752676656e-15,2.923280829807795e-07,2.527005791478328e-06,6.368439740697309e-09,8.19563755495812e-27,1.2984411462472734e-26,4.741277888695175e-37,2.5217877301009345e-21,5.17122469270011e-23,0.029378451893242216,1.1072715292510167,1.3347707891100035e-21,2.5373924237075008e-08,1.1793019564029384e-06,3.091383763269641e-07,3.1959374166922774e-06,6.164665069517492e-29,3.171325854985342e-29,6.236774990879027e-32,1.2701139851904649e-39,2.1583462356843e-23,1.4788514451892529e-08,3.0686970844464504e-08,1.660344345887961e-28,8.541409619039284e-29,1.679765887669212e-31,3.420829112633765e-39,5.813126793549348e-23,3.632416306373238e-08,1.9027584945614807e-09,2.5028568522163425e-30,3.756520422531723e-27,5.951484128751677e-27,1.566511256247205e-16,2.481835802927106e-16,1.2111129134596746e-13,1.2497925155806856e-13,1.6101077605670993e-10,1.3172392449894648e-10,2.768369798647269e-23,6.344909189547275e-20,1.0093557045556728e-14,2.714043299343841e-30,2.0760738810688958e-19,7.617230801749827e-16,9.07813544100152e-14,3.1918679041898674e-15,2.153884754351994e-15,3.415145340258531e-07,5.551720677884835e-19,1.0375673776278566e-14,2.173193616524265e-37,2.755476329703743e-27,5.840517616658005e-26,3.391696952274628e-21,7.886434623309035e-21,1.8382358474256533e-19,4.667986832136107e-06,3.847234095509519e-07,1.3290668877140119e-06,9.430632088857844e-08,0.0008057432824829055,1.22698197763371e-28,8.325227709271675e-25\n",
      "\n"
     ]
    }
   ],
   "source": [
    "print(df.to_csv())"
   ]
  },
  {
   "cell_type": "code",
   "execution_count": null,
   "metadata": {
    "collapsed": true
   },
   "outputs": [],
   "source": []
  }
 ],
 "metadata": {
  "kernelspec": {
   "display_name": "Python 3",
   "language": "python",
   "name": "python3"
  },
  "language_info": {
   "codemirror_mode": {
    "name": "ipython",
    "version": 3
   },
   "file_extension": ".py",
   "mimetype": "text/x-python",
   "name": "python",
   "nbconvert_exporter": "python",
   "pygments_lexer": "ipython3",
   "version": "3.5.2"
  },
  "toc": {
   "nav_menu": {
    "height": "171px",
    "width": "252px"
   },
   "navigate_menu": true,
   "number_sections": true,
   "sideBar": true,
   "threshold": 4,
   "toc_cell": true,
   "toc_position": {
    "height": "702px",
    "left": "0px",
    "right": "1228px",
    "top": "106px",
    "width": "212px"
   },
   "toc_section_display": "block",
   "toc_window_display": true
  }
 },
 "nbformat": 4,
 "nbformat_minor": 1
}
