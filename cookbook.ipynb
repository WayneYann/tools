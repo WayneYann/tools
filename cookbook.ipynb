{
 "cells": [
  {
   "cell_type": "markdown",
   "metadata": {},
   "source": [
    "# current issue is in finding reactions where species have '(' or ')'\n",
    "\n",
    "This notebook describes some of the methods in this package and how they can be used."
   ]
  },
  {
   "cell_type": "code",
   "execution_count": 2,
   "metadata": {
    "collapsed": true
   },
   "outputs": [],
   "source": [
    "import cantera_tools as ctt\n",
    "import numpy as np\n",
    "from scipy import integrate\n",
    "import cantera as ct\n",
    "import pandas as pd\n",
    "import numpy as np\n",
    "import matplotlib.pyplot as plt\n",
    "%matplotlib inline"
   ]
  },
  {
   "cell_type": "code",
   "execution_count": 26,
   "metadata": {
    "collapsed": false
   },
   "outputs": [
    {
     "data": {
      "text/plain": [
       "<module 'cantera_tools' from '/home/mark/workspace/tools/cantera_tools.py'>"
      ]
     },
     "execution_count": 26,
     "metadata": {},
     "output_type": "execute_result"
    }
   ],
   "source": [
    "import importlib\n",
    "importlib.reload(ctt)"
   ]
  },
  {
   "cell_type": "markdown",
   "metadata": {},
   "source": [
    "## running a simple simulation"
   ]
  },
  {
   "cell_type": "code",
   "execution_count": 6,
   "metadata": {
    "collapsed": false
   },
   "outputs": [],
   "source": [
    "model_link = 'cookbook_files/model.cti'\n",
    "\n",
    "# creates the cantera Solution object\n",
    "solution = ctt.create_mechanism(model_link)\n",
    "\n",
    "# finds initial mole fraction for a fuel-air ratio of 1 with 30%/70% methanol/propane blend\n",
    "mole_fractions = ctt.get_initial_mole_fractions(stoich_ratio = 1,\n",
    "                                               fuel_mole_ratios = [.3,.7],\n",
    "                                               oxygen_per_fuel_at_stoich_list = [1.5,5],\n",
    "                                               fuels = ['CH3OH','C3H8'])\n",
    "\n",
    "# set initial conditions of solution in kelvin pascals and mole fractions\n",
    "solution.TPX = 750, 10**6, mole_fractions\n",
    "\n",
    "# setup adiabatic constant volume reactor\n",
    "reactor = ct.IdealGasReactor(solution)\n",
    "simulator = ct.ReactorNet([reactor])\n",
    "solution = reactor.kinetics\n",
    "\n",
    "# setup data storage using functions from this class - this saves states, species and reaction profiles\n",
    "df = pd.DataFrame()\n",
    "df = ctt.append_data_to_df(simulator, solution, df, add_rxns=True)\n",
    "\n",
    "# run simulation\n",
    "time_final = 50 #seconds\n",
    "while simulator.time < time_final:\n",
    "    simulator.step(time_final)\n",
    "    # appends data to DataFrame\n",
    "    df = ctt.append_data_to_df(simulator,solution,df, add_rxns=True)\n",
    "\n",
    "\n",
    "# data can be saved to avoid rerunning the simulation for data analysis (in most cases)\n",
    "df.to_pickle('cookbook_files/%s.pic' % (mole_fractions))"
   ]
  },
  {
   "cell_type": "markdown",
   "metadata": {},
   "source": [
    "## reducing a mechanism by reactions\n",
    "The modules can create a reduced mechanism given a list of desired reaction strings, using how cantera represents the reaction strings (this can be found by `solution.reaction_equations()`). It will remove any unused species as well."
   ]
  },
  {
   "cell_type": "code",
   "execution_count": 23,
   "metadata": {
    "collapsed": true
   },
   "outputs": [],
   "source": [
    "desired_reactions = ['CH3OH + O2 <=> CH2OH(29) + HO2(12)',\n",
    " 'C3H8 + O2 <=> C3H7(61) + HO2(12)',\n",
    " 'C3H8 + O2 <=> C3H7(60) + HO2(12)',\n",
    " 'CH3OH + OH(10) <=> CH2OH(29) + H2O(11)',\n",
    " 'C3H8 + OH(10) <=> C3H7(60) + H2O(11)',\n",
    " 'C3H8 + OH(10) <=> C3H7(61) + H2O(11)',\n",
    " 'CH3OH + HO2(12) <=> CH2OH(29) + H2O2(13)',\n",
    " 'C3H8 + HO2(12) <=> C3H7(61) + H2O2(13)',\n",
    " 'C3H8 + HO2(12) <=> C3H7(60) + H2O2(13)',\n",
    " 'C3H7(60) + O2 <=> C3H7O2(78)',\n",
    " 'C3H7(61) + O2 <=> C3H7O2(80)',]\n",
    "\n",
    "# make the reduced mechanism using the full mechanism `.cti` file.\n",
    "solution_reduced = ctt.create_mechanism(model_link, kept_reaction_equations=desired_reactions)\n",
    "\n",
    "# NOTE: this cantera Solution object can now be used like any other"
   ]
  },
  {
   "cell_type": "markdown",
   "metadata": {
    "collapsed": true
   },
   "source": [
    "## analyzing data\n",
    "### obtaining reaction and species data"
   ]
  },
  {
   "cell_type": "code",
   "execution_count": 10,
   "metadata": {
    "collapsed": true
   },
   "outputs": [],
   "source": [
    "# this outputs a dataframe of just species\n",
    "data_species = ctt.find_species(df)\n",
    "\n",
    "# this outputs a dataframe of just reactions\n",
    "data_reactions = ctt.find_reactions(df)\n",
    "\n",
    "# this outputs a dataframe with just reactions involving methanol\n",
    "reactions_with_methanol = ctt.find_reactions(df,species = 'CH3OH')"
   ]
  },
  {
   "cell_type": "markdown",
   "metadata": {
    "collapsed": true
   },
   "source": [
    "### finding stoichiometric coefficients"
   ]
  },
  {
   "cell_type": "code",
   "execution_count": 8,
   "metadata": {
    "collapsed": false
   },
   "outputs": [
    {
     "data": {
      "text/plain": [
       "1.0"
      ]
     },
     "execution_count": 8,
     "metadata": {},
     "output_type": "execute_result"
    }
   ],
   "source": [
    "# this is wrapper function that outputs the stoichiometric coefficient given reaction strings:\n",
    "ctt.obtain_stoichiometry_of_species(solution,'CH2OH(29)','CH3OH + HO2(12) <=> CH2OH(29) + H2O2(13)')"
   ]
  },
  {
   "cell_type": "code",
   "execution_count": 27,
   "metadata": {
    "collapsed": false,
    "scrolled": true
   },
   "outputs": [
    {
     "ename": "Exception",
     "evalue": "No reactions found for species CH2OH(29)",
     "output_type": "error",
     "traceback": [
      "\u001b[0;31m---------------------------------------------------------------------------\u001b[0m",
      "\u001b[0;31mException\u001b[0m                                 Traceback (most recent call last)",
      "\u001b[0;32m<ipython-input-27-1c2f8df1a9b2>\u001b[0m in \u001b[0;36m<module>\u001b[0;34m()\u001b[0m\n\u001b[1;32m      1\u001b[0m \u001b[0;31m# it can also deal with a list of reactions\u001b[0m\u001b[0;34m\u001b[0m\u001b[0;34m\u001b[0m\u001b[0m\n\u001b[0;32m----> 2\u001b[0;31m \u001b[0mreactions_with_species\u001b[0m \u001b[0;34m=\u001b[0m \u001b[0mctt\u001b[0m\u001b[0;34m.\u001b[0m\u001b[0mfind_reactions\u001b[0m\u001b[0;34m(\u001b[0m\u001b[0mdf\u001b[0m\u001b[0;34m,\u001b[0m\u001b[0;34m'CH2OH(29)'\u001b[0m\u001b[0;34m)\u001b[0m\u001b[0;34m\u001b[0m\u001b[0m\n\u001b[0m\u001b[1;32m      3\u001b[0m \u001b[0mctt\u001b[0m\u001b[0;34m.\u001b[0m\u001b[0mobtain_stoichiometry_of_species\u001b[0m\u001b[0;34m(\u001b[0m\u001b[0msolution\u001b[0m\u001b[0;34m,\u001b[0m\u001b[0;34m'CH2OH(29)'\u001b[0m\u001b[0;34m,\u001b[0m\u001b[0mreactions_with_species\u001b[0m\u001b[0;34m)\u001b[0m\u001b[0;34m\u001b[0m\u001b[0m\n",
      "\u001b[0;32m/home/mark/workspace/tools/cantera_tools.py\u001b[0m in \u001b[0;36mfind_reactions\u001b[0;34m(df, species)\u001b[0m\n\u001b[1;32m    358\u001b[0m     \u001b[0mdf_my_reactions\u001b[0m \u001b[0;34m=\u001b[0m \u001b[0mdf_reactions\u001b[0m\u001b[0;34m.\u001b[0m\u001b[0mloc\u001b[0m\u001b[0;34m[\u001b[0m\u001b[0;34m:\u001b[0m\u001b[0;34m,\u001b[0m\u001b[0;34m[\u001b[0m\u001b[0mre\u001b[0m\u001b[0;34m.\u001b[0m\u001b[0mcompile\u001b[0m\u001b[0;34m(\u001b[0m\u001b[0mexpression\u001b[0m\u001b[0;34m)\u001b[0m\u001b[0;34m.\u001b[0m\u001b[0msearch\u001b[0m\u001b[0;34m(\u001b[0m\u001b[0mcolumn\u001b[0m\u001b[0;34m)\u001b[0m \u001b[0;34m!=\u001b[0m \u001b[0;32mNone\u001b[0m \u001b[0;32mfor\u001b[0m \u001b[0mcolumn\u001b[0m \u001b[0;32min\u001b[0m \u001b[0mdf_reactions\u001b[0m\u001b[0;34m.\u001b[0m\u001b[0mcolumns\u001b[0m\u001b[0;34m]\u001b[0m\u001b[0;34m]\u001b[0m\u001b[0;34m\u001b[0m\u001b[0m\n\u001b[1;32m    359\u001b[0m     \u001b[0;32mif\u001b[0m \u001b[0mdf_my_reactions\u001b[0m\u001b[0;34m.\u001b[0m\u001b[0mempty\u001b[0m\u001b[0;34m:\u001b[0m\u001b[0;34m\u001b[0m\u001b[0m\n\u001b[0;32m--> 360\u001b[0;31m         \u001b[0;32mraise\u001b[0m \u001b[0mException\u001b[0m\u001b[0;34m(\u001b[0m\u001b[0;34m'No reactions found for species {}'\u001b[0m\u001b[0;34m.\u001b[0m\u001b[0mformat\u001b[0m\u001b[0;34m(\u001b[0m\u001b[0mspecies\u001b[0m\u001b[0;34m)\u001b[0m\u001b[0;34m)\u001b[0m\u001b[0;34m\u001b[0m\u001b[0m\n\u001b[0m\u001b[1;32m    361\u001b[0m     \u001b[0;32mreturn\u001b[0m \u001b[0mdf_my_reactions\u001b[0m\u001b[0;34m\u001b[0m\u001b[0m\n\u001b[1;32m    362\u001b[0m \u001b[0;34m\u001b[0m\u001b[0m\n",
      "\u001b[0;31mException\u001b[0m: No reactions found for species CH2OH(29)"
     ]
    }
   ],
   "source": [
    "# it can also deal with a list of reactions\n",
    "reactions_with_species = ctt.find_reactions(df,'CH2OH(29)')\n",
    "ctt.obtain_stoichiometry_of_species(solution,'CH2OH(29)',reactions_with_species)"
   ]
  },
  {
   "cell_type": "code",
   "execution_count": 24,
   "metadata": {
    "collapsed": false
   },
   "outputs": [
    {
     "data": {
      "text/html": [
       "<div>\n",
       "<table border=\"1\" class=\"dataframe\">\n",
       "  <thead>\n",
       "    <tr style=\"text-align: right;\">\n",
       "      <th></th>\n",
       "    </tr>\n",
       "  </thead>\n",
       "  <tbody>\n",
       "    <tr>\n",
       "      <th>0</th>\n",
       "    </tr>\n",
       "    <tr>\n",
       "      <th>1</th>\n",
       "    </tr>\n",
       "    <tr>\n",
       "      <th>2</th>\n",
       "    </tr>\n",
       "    <tr>\n",
       "      <th>3</th>\n",
       "    </tr>\n",
       "    <tr>\n",
       "      <th>4</th>\n",
       "    </tr>\n",
       "    <tr>\n",
       "      <th>5</th>\n",
       "    </tr>\n",
       "    <tr>\n",
       "      <th>6</th>\n",
       "    </tr>\n",
       "    <tr>\n",
       "      <th>7</th>\n",
       "    </tr>\n",
       "    <tr>\n",
       "      <th>8</th>\n",
       "    </tr>\n",
       "    <tr>\n",
       "      <th>9</th>\n",
       "    </tr>\n",
       "    <tr>\n",
       "      <th>10</th>\n",
       "    </tr>\n",
       "    <tr>\n",
       "      <th>11</th>\n",
       "    </tr>\n",
       "    <tr>\n",
       "      <th>12</th>\n",
       "    </tr>\n",
       "    <tr>\n",
       "      <th>13</th>\n",
       "    </tr>\n",
       "    <tr>\n",
       "      <th>14</th>\n",
       "    </tr>\n",
       "    <tr>\n",
       "      <th>15</th>\n",
       "    </tr>\n",
       "    <tr>\n",
       "      <th>16</th>\n",
       "    </tr>\n",
       "    <tr>\n",
       "      <th>17</th>\n",
       "    </tr>\n",
       "    <tr>\n",
       "      <th>18</th>\n",
       "    </tr>\n",
       "    <tr>\n",
       "      <th>19</th>\n",
       "    </tr>\n",
       "    <tr>\n",
       "      <th>20</th>\n",
       "    </tr>\n",
       "    <tr>\n",
       "      <th>21</th>\n",
       "    </tr>\n",
       "    <tr>\n",
       "      <th>22</th>\n",
       "    </tr>\n",
       "    <tr>\n",
       "      <th>23</th>\n",
       "    </tr>\n",
       "    <tr>\n",
       "      <th>24</th>\n",
       "    </tr>\n",
       "    <tr>\n",
       "      <th>25</th>\n",
       "    </tr>\n",
       "    <tr>\n",
       "      <th>26</th>\n",
       "    </tr>\n",
       "    <tr>\n",
       "      <th>27</th>\n",
       "    </tr>\n",
       "    <tr>\n",
       "      <th>28</th>\n",
       "    </tr>\n",
       "    <tr>\n",
       "      <th>29</th>\n",
       "    </tr>\n",
       "    <tr>\n",
       "      <th>...</th>\n",
       "    </tr>\n",
       "    <tr>\n",
       "      <th>3967</th>\n",
       "    </tr>\n",
       "    <tr>\n",
       "      <th>3968</th>\n",
       "    </tr>\n",
       "    <tr>\n",
       "      <th>3969</th>\n",
       "    </tr>\n",
       "    <tr>\n",
       "      <th>3970</th>\n",
       "    </tr>\n",
       "    <tr>\n",
       "      <th>3971</th>\n",
       "    </tr>\n",
       "    <tr>\n",
       "      <th>3972</th>\n",
       "    </tr>\n",
       "    <tr>\n",
       "      <th>3973</th>\n",
       "    </tr>\n",
       "    <tr>\n",
       "      <th>3974</th>\n",
       "    </tr>\n",
       "    <tr>\n",
       "      <th>3975</th>\n",
       "    </tr>\n",
       "    <tr>\n",
       "      <th>3976</th>\n",
       "    </tr>\n",
       "    <tr>\n",
       "      <th>3977</th>\n",
       "    </tr>\n",
       "    <tr>\n",
       "      <th>3978</th>\n",
       "    </tr>\n",
       "    <tr>\n",
       "      <th>3979</th>\n",
       "    </tr>\n",
       "    <tr>\n",
       "      <th>3980</th>\n",
       "    </tr>\n",
       "    <tr>\n",
       "      <th>3981</th>\n",
       "    </tr>\n",
       "    <tr>\n",
       "      <th>3982</th>\n",
       "    </tr>\n",
       "    <tr>\n",
       "      <th>3983</th>\n",
       "    </tr>\n",
       "    <tr>\n",
       "      <th>3984</th>\n",
       "    </tr>\n",
       "    <tr>\n",
       "      <th>3985</th>\n",
       "    </tr>\n",
       "    <tr>\n",
       "      <th>3986</th>\n",
       "    </tr>\n",
       "    <tr>\n",
       "      <th>3987</th>\n",
       "    </tr>\n",
       "    <tr>\n",
       "      <th>3988</th>\n",
       "    </tr>\n",
       "    <tr>\n",
       "      <th>3989</th>\n",
       "    </tr>\n",
       "    <tr>\n",
       "      <th>3990</th>\n",
       "    </tr>\n",
       "    <tr>\n",
       "      <th>3991</th>\n",
       "    </tr>\n",
       "    <tr>\n",
       "      <th>3992</th>\n",
       "    </tr>\n",
       "    <tr>\n",
       "      <th>3993</th>\n",
       "    </tr>\n",
       "    <tr>\n",
       "      <th>3994</th>\n",
       "    </tr>\n",
       "    <tr>\n",
       "      <th>3995</th>\n",
       "    </tr>\n",
       "    <tr>\n",
       "      <th>3996</th>\n",
       "    </tr>\n",
       "  </tbody>\n",
       "</table>\n",
       "<p>3997 rows × 0 columns</p>\n",
       "</div>"
      ],
      "text/plain": [
       "Empty DataFrame\n",
       "Columns: []\n",
       "Index: [0, 1, 2, 3, 4, 5, 6, 7, 8, 9, 10, 11, 12, 13, 14, 15, 16, 17, 18, 19, 20, 21, 22, 23, 24, 25, 26, 27, 28, 29, 30, 31, 32, 33, 34, 35, 36, 37, 38, 39, 40, 41, 42, 43, 44, 45, 46, 47, 48, 49, 50, 51, 52, 53, 54, 55, 56, 57, 58, 59, 60, 61, 62, 63, 64, 65, 66, 67, 68, 69, 70, 71, 72, 73, 74, 75, 76, 77, 78, 79, 80, 81, 82, 83, 84, 85, 86, 87, 88, 89, 90, 91, 92, 93, 94, 95, 96, 97, 98, 99, ...]\n",
       "\n",
       "[3997 rows x 0 columns]"
      ]
     },
     "execution_count": 24,
     "metadata": {},
     "output_type": "execute_result"
    }
   ],
   "source": [
    "reactions_with_species"
   ]
  },
  {
   "cell_type": "markdown",
   "metadata": {
    "collapsed": true
   },
   "source": [
    "## analyzing data\n",
    "### finding stoichiometric coefficients"
   ]
  },
  {
   "cell_type": "code",
   "execution_count": null,
   "metadata": {
    "collapsed": true
   },
   "outputs": [],
   "source": []
  }
 ],
 "metadata": {
  "kernelspec": {
   "display_name": "Python 3",
   "language": "python",
   "name": "python3"
  },
  "language_info": {
   "codemirror_mode": {
    "name": "ipython",
    "version": 3
   },
   "file_extension": ".py",
   "mimetype": "text/x-python",
   "name": "python",
   "nbconvert_exporter": "python",
   "pygments_lexer": "ipython3",
   "version": "3.4.5"
  }
 },
 "nbformat": 4,
 "nbformat_minor": 1
}
